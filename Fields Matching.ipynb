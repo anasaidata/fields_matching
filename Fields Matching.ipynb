{
 "cells": [
  {
   "cell_type": "markdown",
   "metadata": {},
   "source": [
    "# Fields Mathcing"
   ]
  },
  {
   "cell_type": "markdown",
   "metadata": {},
   "source": [
    "#### Imports"
   ]
  },
  {
   "cell_type": "code",
   "execution_count": 1,
   "metadata": {},
   "outputs": [],
   "source": [
    "import pandas as pd"
   ]
  },
  {
   "cell_type": "markdown",
   "metadata": {},
   "source": [
    "### Load Data"
   ]
  },
  {
   "cell_type": "code",
   "execution_count": null,
   "metadata": {},
   "outputs": [],
   "source": [
    "local_str = 'Example product 1 with this and 45 L FF'\n",
    "reference_str = 'Product 1 FF 45 Foo1 Foo2'"
   ]
  },
  {
   "cell_type": "code",
   "execution_count": null,
   "metadata": {},
   "outputs": [],
   "source": [
    "local_df = pd.read_csv()\n",
    "reference_df = pd.read_csv()"
   ]
  },
  {
   "cell_type": "markdown",
   "metadata": {},
   "source": [
    "### Cleaning"
   ]
  },
  {
   "cell_type": "code",
   "execution_count": null,
   "metadata": {},
   "outputs": [],
   "source": []
  },
  {
   "cell_type": "markdown",
   "metadata": {},
   "source": [
    "## Build model"
   ]
  },
  {
   "cell_type": "markdown",
   "metadata": {},
   "source": [
    "### Model 1: polyfuzz"
   ]
  },
  {
   "cell_type": "code",
   "execution_count": 2,
   "metadata": {},
   "outputs": [
    {
     "ename": "ModuleNotFoundError",
     "evalue": "No module named 'polyfuzz'",
     "output_type": "error",
     "traceback": [
      "\u001b[0;31m---------------------------------------------------------------------------\u001b[0m",
      "\u001b[0;31mModuleNotFoundError\u001b[0m                       Traceback (most recent call last)",
      "\u001b[1;32m/Users/gonzalozabala/Documents/GitHub/fields_matching/Fields Matching.ipynb Cell 11\u001b[0m in \u001b[0;36m<cell line: 1>\u001b[0;34m()\u001b[0m\n\u001b[0;32m----> <a href='vscode-notebook-cell:/Users/gonzalozabala/Documents/GitHub/fields_matching/Fields%20Matching.ipynb#ch0000013?line=0'>1</a>\u001b[0m \u001b[39mfrom\u001b[39;00m \u001b[39mpolyfuzz\u001b[39;00m \u001b[39mimport\u001b[39;00m PolyFuzz\n\u001b[1;32m      <a href='vscode-notebook-cell:/Users/gonzalozabala/Documents/GitHub/fields_matching/Fields%20Matching.ipynb#ch0000013?line=1'>2</a>\u001b[0m \u001b[39mfrom\u001b[39;00m \u001b[39mpolyfuzz\u001b[39;00m\u001b[39m.\u001b[39;00m\u001b[39mmodels\u001b[39;00m \u001b[39mimport\u001b[39;00m Embeddings\n\u001b[1;32m      <a href='vscode-notebook-cell:/Users/gonzalozabala/Documents/GitHub/fields_matching/Fields%20Matching.ipynb#ch0000013?line=2'>3</a>\u001b[0m \u001b[39mfrom\u001b[39;00m \u001b[39mflair\u001b[39;00m\u001b[39m.\u001b[39;00m\u001b[39membeddings\u001b[39;00m \u001b[39mimport\u001b[39;00m TransformerWordEmbeddings\n",
      "\u001b[0;31mModuleNotFoundError\u001b[0m: No module named 'polyfuzz'"
     ]
    }
   ],
   "source": [
    "from polyfuzz import PolyFuzz\n",
    "from polyfuzz.models import Embeddings\n",
    "from flair.embeddings import TransformerWordEmbeddings"
   ]
  },
  {
   "cell_type": "code",
   "execution_count": null,
   "metadata": {},
   "outputs": [],
   "source": []
  }
 ],
 "metadata": {
  "kernelspec": {
   "display_name": "Python 3.8.13 ('py8')",
   "language": "python",
   "name": "python3"
  },
  "language_info": {
   "codemirror_mode": {
    "name": "ipython",
    "version": 3
   },
   "file_extension": ".py",
   "mimetype": "text/x-python",
   "name": "python",
   "nbconvert_exporter": "python",
   "pygments_lexer": "ipython3",
   "version": "3.8.13"
  },
  "orig_nbformat": 4,
  "vscode": {
   "interpreter": {
    "hash": "9f2154a04e62855ab2035bde98a99d0515af218a52b26f3f8d77f1cfeb44b4f9"
   }
  }
 },
 "nbformat": 4,
 "nbformat_minor": 2
}
